{
 "cells": [
  {
   "cell_type": "code",
   "execution_count": 106,
   "metadata": {},
   "outputs": [],
   "source": [
    "import numpy as np\n",
    "\n",
    "from qiskit import QuantumCircuit\n",
    "from qiskit.circuit.library import QFT as QFTQiskit"
   ]
  },
  {
   "cell_type": "code",
   "execution_count": 109,
   "metadata": {},
   "outputs": [],
   "source": [
    "class QFT:\n",
    "    def __init__(self, n):\n",
    "        self.n = n\n",
    "        self._qubits = range(n)\n",
    "        self.circuit = QuantumCircuit(n)\n",
    "        self.circuit.circuit_name = 'QFT'\n",
    "\n",
    "        self._create_qft_circuit()\n",
    "        self._swap_qubits()\n",
    "        \n",
    "    def _create_qft_circuit(self):\n",
    "        for target in self._qubits:\n",
    "            self.circuit.h(target)\n",
    "            self._add_controlled_rotations(target)\n",
    "\n",
    "    def _add_controlled_rotations(self, target):\n",
    "        for k in range(target + 1, self.n):\n",
    "            self._controlled_rotation(k, target)\n",
    "            \n",
    "    def _controlled_rotation(self, control, target):\n",
    "        denominator = 2**(control + 1 - target)\n",
    "        self.circuit.cu1(2 * np.pi / denominator, control, target)\n",
    "    \n",
    "    def _swap_qubits(self):\n",
    "        m = self.n - 1\n",
    "        for i in reversed(range(-(-m//2))):\n",
    "            self.circuit.swap(i, m - i)"
   ]
  },
  {
   "cell_type": "code",
   "execution_count": 110,
   "metadata": {},
   "outputs": [
    {
     "data": {
      "text/html": [
       "<pre style=\"word-wrap: normal;white-space: pre;background: #fff0;line-height: 1.1;font-family: &quot;Courier New&quot;,Courier,monospace\">     ┌───┐                                                            \n",
       "q_0: ┤ H ├─■──────■───────────■─────────────────────────────────────X─\n",
       "     └───┘ │pi/2  │     ┌───┐ │                                     │ \n",
       "q_1: ──────■──────┼─────┤ H ├─┼──────■──────■───────────────────X───┼─\n",
       "                  │pi/4 └───┘ │      │pi/2  │     ┌───┐         │   │ \n",
       "q_2: ─────────────■───────────┼──────■──────┼─────┤ H ├─■───────X───┼─\n",
       "                              │pi/8         │pi/4 └───┘ │pi/2 ┌───┐ │ \n",
       "q_3: ─────────────────────────■─────────────■───────────■─────┤ H ├─X─\n",
       "                                                              └───┘   </pre>"
      ],
      "text/plain": [
       "     ┌───┐                                                            \n",
       "q_0: ┤ H ├─■──────■───────────■─────────────────────────────────────X─\n",
       "     └───┘ │pi/2  │     ┌───┐ │                                     │ \n",
       "q_1: ──────■──────┼─────┤ H ├─┼──────■──────■───────────────────X───┼─\n",
       "                  │pi/4 └───┘ │      │pi/2  │     ┌───┐         │   │ \n",
       "q_2: ─────────────■───────────┼──────■──────┼─────┤ H ├─■───────X───┼─\n",
       "                              │pi/8         │pi/4 └───┘ │pi/2 ┌───┐ │ \n",
       "q_3: ─────────────────────────■─────────────■───────────■─────┤ H ├─X─\n",
       "                                                              └───┘   "
      ]
     },
     "metadata": {},
     "output_type": "display_data"
    },
    {
     "data": {
      "text/html": [
       "<pre style=\"word-wrap: normal;white-space: pre;background: #fff0;line-height: 1.1;font-family: &quot;Courier New&quot;,Courier,monospace\">     ┌───┐                                                            \n",
       "q_0: ┤ H ├─■──────■───────────■─────────────────────────────────────X─\n",
       "     └───┘ │pi/2  │     ┌───┐ │                                     │ \n",
       "q_1: ──────■──────┼─────┤ H ├─┼──────■──────■───────────────────X───┼─\n",
       "                  │pi/4 └───┘ │      │pi/2  │     ┌───┐         │   │ \n",
       "q_2: ─────────────■───────────┼──────■──────┼─────┤ H ├─■───────X───┼─\n",
       "                              │pi/8         │pi/4 └───┘ │pi/2 ┌───┐ │ \n",
       "q_3: ─────────────────────────■─────────────■───────────■─────┤ H ├─X─\n",
       "                                                              └───┘   </pre>"
      ],
      "text/plain": [
       "     ┌───┐                                                            \n",
       "q_0: ┤ H ├─■──────■───────────■─────────────────────────────────────X─\n",
       "     └───┘ │pi/2  │     ┌───┐ │                                     │ \n",
       "q_1: ──────■──────┼─────┤ H ├─┼──────■──────■───────────────────X───┼─\n",
       "                  │pi/4 └───┘ │      │pi/2  │     ┌───┐         │   │ \n",
       "q_2: ─────────────■───────────┼──────■──────┼─────┤ H ├─■───────X───┼─\n",
       "                              │pi/8         │pi/4 └───┘ │pi/2 ┌───┐ │ \n",
       "q_3: ─────────────────────────■─────────────■───────────■─────┤ H ├─X─\n",
       "                                                              └───┘   "
      ]
     },
     "metadata": {},
     "output_type": "display_data"
    }
   ],
   "source": [
    "display(QFTQiskit(4).draw())\n",
    "display(QFT(4).circuit.draw())"
   ]
  },
  {
   "cell_type": "code",
   "execution_count": null,
   "metadata": {},
   "outputs": [],
   "source": []
  }
 ],
 "metadata": {
  "kernelspec": {
   "display_name": "Python 3",
   "language": "python",
   "name": "python3"
  },
  "language_info": {
   "codemirror_mode": {
    "name": "ipython",
    "version": 3
   },
   "file_extension": ".py",
   "mimetype": "text/x-python",
   "name": "python",
   "nbconvert_exporter": "python",
   "pygments_lexer": "ipython3",
   "version": "3.7.6"
  }
 },
 "nbformat": 4,
 "nbformat_minor": 4
}
